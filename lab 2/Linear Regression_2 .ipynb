{
 "cells": [
  {
   "cell_type": "code",
   "execution_count": 19,
   "id": "f58d63a6-c724-429d-b939-8da5dcdadd51",
   "metadata": {},
   "outputs": [],
   "source": [
    "import numpy as np\n",
    "import pandas as pd\n",
    "import matplotlib.pyplot as plt"
   ]
  },
  {
   "cell_type": "code",
   "execution_count": 20,
   "id": "88688c3b",
   "metadata": {},
   "outputs": [],
   "source": [
    "data =pd.read_csv(\"cars.csv\",header=0)"
   ]
  },
  {
   "cell_type": "code",
   "execution_count": 21,
   "id": "775b1eb8",
   "metadata": {},
   "outputs": [
    {
     "data": {
      "text/html": [
       "<div>\n",
       "<style scoped>\n",
       "    .dataframe tbody tr th:only-of-type {\n",
       "        vertical-align: middle;\n",
       "    }\n",
       "\n",
       "    .dataframe tbody tr th {\n",
       "        vertical-align: top;\n",
       "    }\n",
       "\n",
       "    .dataframe thead th {\n",
       "        text-align: right;\n",
       "    }\n",
       "</style>\n",
       "<table border=\"1\" class=\"dataframe\">\n",
       "  <thead>\n",
       "    <tr style=\"text-align: right;\">\n",
       "      <th></th>\n",
       "      <th>enginesize</th>\n",
       "      <th>carlength</th>\n",
       "      <th>carwidth</th>\n",
       "      <th>carheight</th>\n",
       "      <th>price</th>\n",
       "    </tr>\n",
       "  </thead>\n",
       "  <tbody>\n",
       "    <tr>\n",
       "      <th>0</th>\n",
       "      <td>130</td>\n",
       "      <td>168.8</td>\n",
       "      <td>64.1</td>\n",
       "      <td>48.8</td>\n",
       "      <td>13495</td>\n",
       "    </tr>\n",
       "    <tr>\n",
       "      <th>1</th>\n",
       "      <td>130</td>\n",
       "      <td>168.8</td>\n",
       "      <td>64.1</td>\n",
       "      <td>48.8</td>\n",
       "      <td>16500</td>\n",
       "    </tr>\n",
       "    <tr>\n",
       "      <th>2</th>\n",
       "      <td>152</td>\n",
       "      <td>171.2</td>\n",
       "      <td>65.5</td>\n",
       "      <td>52.4</td>\n",
       "      <td>16500</td>\n",
       "    </tr>\n",
       "    <tr>\n",
       "      <th>3</th>\n",
       "      <td>109</td>\n",
       "      <td>176.6</td>\n",
       "      <td>66.2</td>\n",
       "      <td>54.3</td>\n",
       "      <td>13950</td>\n",
       "    </tr>\n",
       "    <tr>\n",
       "      <th>4</th>\n",
       "      <td>136</td>\n",
       "      <td>176.6</td>\n",
       "      <td>66.4</td>\n",
       "      <td>54.3</td>\n",
       "      <td>17450</td>\n",
       "    </tr>\n",
       "  </tbody>\n",
       "</table>\n",
       "</div>"
      ],
      "text/plain": [
       "   enginesize  carlength  carwidth  carheight  price\n",
       "0         130      168.8      64.1       48.8  13495\n",
       "1         130      168.8      64.1       48.8  16500\n",
       "2         152      171.2      65.5       52.4  16500\n",
       "3         109      176.6      66.2       54.3  13950\n",
       "4         136      176.6      66.4       54.3  17450"
      ]
     },
     "execution_count": 21,
     "metadata": {},
     "output_type": "execute_result"
    }
   ],
   "source": [
    "data.head()"
   ]
  },
  {
   "cell_type": "code",
   "execution_count": 22,
   "id": "5aedb634",
   "metadata": {},
   "outputs": [
    {
     "data": {
      "text/plain": [
       "(99, 5)"
      ]
     },
     "execution_count": 22,
     "metadata": {},
     "output_type": "execute_result"
    }
   ],
   "source": [
    "data.shape"
   ]
  },
  {
   "cell_type": "code",
   "execution_count": 23,
   "id": "b4fcab5e",
   "metadata": {},
   "outputs": [
    {
     "name": "stdout",
     "output_type": "stream",
     "text": [
      "(99, 2)\n",
      "(99,)\n"
     ]
    }
   ],
   "source": [
    "x=data[[\"enginesize\",\"carheight\"]].values\n",
    "y=data['price'].values\n",
    "print(x.shape)\n",
    "print(y.shape)"
   ]
  },
  {
   "cell_type": "code",
   "execution_count": 24,
   "id": "112552e2",
   "metadata": {},
   "outputs": [],
   "source": [
    "class LinerRegression:\n",
    "    def __init__(self,l_rate=0.001,iterations=1000):\n",
    "        self.l_rate=l_rate\n",
    "        self.iterations=iterations\n",
    "\n",
    "    def fitGD(self,x,y):\n",
    "            self.cost=[]\n",
    "            self.theta=np.zeros((1+x.shape[1]))\n",
    "            n=x.shape[0]\n",
    "\n",
    "            for i in range(self.iterations):\n",
    "                 y_pred=self.theta[0]+np.dot(x,self.theta[1:])\n",
    "                 mse=(1/n)*np.sum((y_pred-y)**2)\n",
    "                 self.cost.append(mse)\n",
    "\n",
    "                 d_theta1=(2/n) * np.dot(x.T,(y_pred-y))\n",
    "                 d_theta0=(2/n) * np.sum(y_pred-y)\n",
    "                 \n",
    "                 self.theta[1:]=self.theta[1:]-self.l_rate*d_theta1\n",
    "                 self.theta[0]=self.theta[0]-self.l_rate*d_theta0\n",
    "            return self\n",
    "    \n",
    "    def predict(self,x):\n",
    "         return np.dot(x,self.theta[1:]) + self.theta[0]\n",
    "    \n",
    "    def fitNQ(self,x,y):\n",
    "         z=np.ones((x.shape[0],1))\n",
    "         x=np.append(z,x,axis=1)\n",
    "         self.thetas=np.linalg.inv(x.T.dot(x)).dot(x.T).dot(y)\n",
    "         return self\n",
    "    \n",
    "    def predictNQ(self,x):\n",
    "         z=np.ones((x.shape[0],1))\n",
    "         x=np.append(z,x,axis=1)\n",
    "         return np.dot(x,self.thetas)"
   ]
  },
  {
   "cell_type": "code",
   "execution_count": 25,
   "id": "753c5767",
   "metadata": {},
   "outputs": [],
   "source": [
    "def scale(x):\n",
    "    x_scaled=x-np.mean(x,axis=0)\n",
    "    x_scaled=x_scaled/np.std(x_scaled,axis=0)\n",
    "    return x_scaled"
   ]
  },
  {
   "cell_type": "code",
   "execution_count": 26,
   "id": "d890a4c2",
   "metadata": {},
   "outputs": [
    {
     "data": {
      "text/plain": [
       "<__main__.LinerRegression at 0x1e3e47e3d00>"
      ]
     },
     "execution_count": 26,
     "metadata": {},
     "output_type": "execute_result"
    }
   ],
   "source": [
    "x_sd=scale(x)\n",
    "lr = LinerRegression()\n",
    "lr.fitGD(x_sd,y)\n",
    "lr.fitNQ(x,y)"
   ]
  },
  {
   "cell_type": "code",
   "execution_count": 27,
   "id": "378dc232",
   "metadata": {},
   "outputs": [
    {
     "name": "stdout",
     "output_type": "stream",
     "text": [
      "theta0= 12007.838077818737\n",
      "theta1= 7378.449674762259\n",
      "theta2= 1208.9169319699492\n"
     ]
    }
   ],
   "source": [
    "print(\"theta0=\",lr.theta[0])\n",
    "print(\"theta1=\",lr.theta[1])\n",
    "print(\"theta2=\",lr.theta[2])"
   ]
  },
  {
   "cell_type": "code",
   "execution_count": 28,
   "id": "b782472e",
   "metadata": {},
   "outputs": [
    {
     "name": "stdout",
     "output_type": "stream",
     "text": [
      "thetas0= -25593.799257755134\n",
      "thetas1= 165.83734503864957\n",
      "thetas2= 346.60146279787415\n"
     ]
    }
   ],
   "source": [
    "print(\"thetas0=\",lr.thetas[0])\n",
    "print(\"thetas1=\",lr.thetas[1])\n",
    "print(\"thetas2=\",lr.thetas[2])"
   ]
  },
  {
   "cell_type": "code",
   "execution_count": 29,
   "id": "052537de",
   "metadata": {},
   "outputs": [],
   "source": [
    "y_pred=lr.predict(x_sd)\n",
    "y_predNQ=lr.predictNQ(x)"
   ]
  },
  {
   "cell_type": "code",
   "execution_count": 30,
   "id": "b292a499",
   "metadata": {},
   "outputs": [
    {
     "name": "stdout",
     "output_type": "stream",
     "text": [
      "0.7833948201180297\n"
     ]
    }
   ],
   "source": [
    "errors=np.sum((y_pred-y)**2)\n",
    "sst=np.sum((y-np.mean(y))**2)\n",
    "r2_gd=1-(errors/sst)\n",
    "adjust_r2_gd=1-((1-r2_gd)*(x.shape[0]-1)/(x.shape[0]-x.shape[1]-1))\n",
    "print(adjust_r2_gd)"
   ]
  },
  {
   "cell_type": "code",
   "execution_count": 31,
   "id": "f53cc415",
   "metadata": {},
   "outputs": [
    {
     "name": "stdout",
     "output_type": "stream",
     "text": [
      "0.838274550825138\n"
     ]
    }
   ],
   "source": [
    "errors=np.sum((y_predNQ-y)**2)\n",
    "sst=np.sum((y-np.mean(y))**2)\n",
    "r2_nq=1-(errors/sst)\n",
    "adjust_r2_nq=1-((1-r2_nq)*(x.shape[0]-1)/(x.shape[0]-x.shape[1]-1))\n",
    "print(adjust_r2_nq)"
   ]
  },
  {
   "cell_type": "code",
   "execution_count": null,
   "id": "7df1c5d3",
   "metadata": {},
   "outputs": [],
   "source": []
  }
 ],
 "metadata": {
  "kernelspec": {
   "display_name": "Python 3 (ipykernel)",
   "language": "python",
   "name": "python3"
  },
  "language_info": {
   "codemirror_mode": {
    "name": "ipython",
    "version": 3
   },
   "file_extension": ".py",
   "mimetype": "text/x-python",
   "name": "python",
   "nbconvert_exporter": "python",
   "pygments_lexer": "ipython3",
   "version": "3.10.13"
  }
 },
 "nbformat": 4,
 "nbformat_minor": 5
}
