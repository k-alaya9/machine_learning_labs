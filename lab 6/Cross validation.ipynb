{
 "cells": [
  {
   "cell_type": "code",
   "execution_count": 15,
   "id": "f58d63a6-c724-429d-b939-8da5dcdadd51",
   "metadata": {},
   "outputs": [],
   "source": [
    "#Required Libraries\n",
    "import numpy as np  \n",
    "import pandas as pd\n",
    "from sklearn.model_selection import train_test_split\n",
    "from sklearn.model_selection import KFold\n",
    "from sklearn.model_selection import StratifiedKFold\n",
    "from sklearn import metrics"
   ]
  },
  {
   "cell_type": "code",
   "execution_count": 16,
   "id": "8639164c",
   "metadata": {},
   "outputs": [],
   "source": [
    "data=pd.read_csv(\"diabetes2 (1).csv\")"
   ]
  },
  {
   "cell_type": "code",
   "execution_count": 17,
   "id": "6875b733",
   "metadata": {},
   "outputs": [
    {
     "data": {
      "text/html": [
       "<div>\n",
       "<style scoped>\n",
       "    .dataframe tbody tr th:only-of-type {\n",
       "        vertical-align: middle;\n",
       "    }\n",
       "\n",
       "    .dataframe tbody tr th {\n",
       "        vertical-align: top;\n",
       "    }\n",
       "\n",
       "    .dataframe thead th {\n",
       "        text-align: right;\n",
       "    }\n",
       "</style>\n",
       "<table border=\"1\" class=\"dataframe\">\n",
       "  <thead>\n",
       "    <tr style=\"text-align: right;\">\n",
       "      <th></th>\n",
       "      <th>Pregnancies</th>\n",
       "      <th>Glucose</th>\n",
       "      <th>BloodPressure</th>\n",
       "      <th>SkinThickness</th>\n",
       "      <th>Insulin</th>\n",
       "      <th>BMI</th>\n",
       "      <th>DiabetesPedigreeFunction</th>\n",
       "      <th>Age</th>\n",
       "      <th>Outcome</th>\n",
       "    </tr>\n",
       "  </thead>\n",
       "  <tbody>\n",
       "    <tr>\n",
       "      <th>0</th>\n",
       "      <td>6</td>\n",
       "      <td>148</td>\n",
       "      <td>72</td>\n",
       "      <td>35</td>\n",
       "      <td>0</td>\n",
       "      <td>33.6</td>\n",
       "      <td>0.627</td>\n",
       "      <td>50</td>\n",
       "      <td>1</td>\n",
       "    </tr>\n",
       "    <tr>\n",
       "      <th>1</th>\n",
       "      <td>1</td>\n",
       "      <td>85</td>\n",
       "      <td>66</td>\n",
       "      <td>29</td>\n",
       "      <td>0</td>\n",
       "      <td>26.6</td>\n",
       "      <td>0.351</td>\n",
       "      <td>31</td>\n",
       "      <td>0</td>\n",
       "    </tr>\n",
       "    <tr>\n",
       "      <th>2</th>\n",
       "      <td>8</td>\n",
       "      <td>183</td>\n",
       "      <td>64</td>\n",
       "      <td>0</td>\n",
       "      <td>0</td>\n",
       "      <td>23.3</td>\n",
       "      <td>0.672</td>\n",
       "      <td>32</td>\n",
       "      <td>1</td>\n",
       "    </tr>\n",
       "    <tr>\n",
       "      <th>3</th>\n",
       "      <td>1</td>\n",
       "      <td>89</td>\n",
       "      <td>66</td>\n",
       "      <td>23</td>\n",
       "      <td>94</td>\n",
       "      <td>28.1</td>\n",
       "      <td>0.167</td>\n",
       "      <td>21</td>\n",
       "      <td>0</td>\n",
       "    </tr>\n",
       "    <tr>\n",
       "      <th>4</th>\n",
       "      <td>0</td>\n",
       "      <td>137</td>\n",
       "      <td>40</td>\n",
       "      <td>35</td>\n",
       "      <td>168</td>\n",
       "      <td>43.1</td>\n",
       "      <td>2.288</td>\n",
       "      <td>33</td>\n",
       "      <td>1</td>\n",
       "    </tr>\n",
       "  </tbody>\n",
       "</table>\n",
       "</div>"
      ],
      "text/plain": [
       "   Pregnancies  Glucose  BloodPressure  SkinThickness  Insulin   BMI  \\\n",
       "0            6      148             72             35        0  33.6   \n",
       "1            1       85             66             29        0  26.6   \n",
       "2            8      183             64              0        0  23.3   \n",
       "3            1       89             66             23       94  28.1   \n",
       "4            0      137             40             35      168  43.1   \n",
       "\n",
       "   DiabetesPedigreeFunction  Age  Outcome  \n",
       "0                     0.627   50        1  \n",
       "1                     0.351   31        0  \n",
       "2                     0.672   32        1  \n",
       "3                     0.167   21        0  \n",
       "4                     2.288   33        1  "
      ]
     },
     "execution_count": 17,
     "metadata": {},
     "output_type": "execute_result"
    }
   ],
   "source": [
    "data.head()"
   ]
  },
  {
   "cell_type": "code",
   "execution_count": 18,
   "id": "0d0b9a74",
   "metadata": {},
   "outputs": [
    {
     "data": {
      "text/plain": [
       "Outcome\n",
       "0    500\n",
       "1    268\n",
       "Name: count, dtype: int64"
      ]
     },
     "execution_count": 18,
     "metadata": {},
     "output_type": "execute_result"
    }
   ],
   "source": [
    "data.Outcome.value_counts()"
   ]
  },
  {
   "cell_type": "code",
   "execution_count": 19,
   "id": "9119bbee",
   "metadata": {},
   "outputs": [
    {
     "name": "stdout",
     "output_type": "stream",
     "text": [
      "(768, 8)\n",
      "(768,)\n"
     ]
    }
   ],
   "source": [
    "#Grab features and label from dataframe\n",
    "x = data[['Pregnancies','Glucose', 'BloodPressure', 'Age', 'SkinThickness', 'Insulin', 'BMI', 'DiabetesPedigreeFunction']].values\n",
    "y = data['Outcome'].values\n",
    "\n",
    "print(x.shape)\n",
    "print(y.shape)"
   ]
  },
  {
   "cell_type": "code",
   "execution_count": 20,
   "id": "bc96d789",
   "metadata": {},
   "outputs": [
    {
     "name": "stdout",
     "output_type": "stream",
     "text": [
      "537\n",
      "115\n",
      "116\n"
     ]
    }
   ],
   "source": [
    "x_train,x_test,y_train,y_test=train_test_split(x,y,test_size=0.3,random_state=42)\n",
    "x_vaild,x_test,y_vaild,y_test=train_test_split(x_test,y_test,test_size=0.5,random_state=42)\n",
    "\n",
    "print(len(x_train))\n",
    "print(len(x_vaild))\n",
    "print(len(x_test))"
   ]
  },
  {
   "cell_type": "code",
   "execution_count": 21,
   "id": "162bf436",
   "metadata": {},
   "outputs": [],
   "source": [
    "class LogisticRegression:\n",
    "    \n",
    "    def __init__(self, l_rate=0.01, iterations=1000):  \n",
    "        self.l_rate = l_rate  \n",
    "        self.iterations = iterations \n",
    "        \n",
    "    def scale(self, x):  \n",
    "        x_scaled = x - np.mean(x, axis=0)\n",
    "        x_scaled = x_scaled / np.std(x_scaled, axis=0)\n",
    "        return x_scaled\n",
    "    \n",
    "    def fit(self, x, y):  \n",
    "        self.losses = []  \n",
    "        self.theta = np.zeros((1 + x.shape[1])) \n",
    "        n = x.shape[0]\n",
    "        \n",
    "        x = self.scale(x)  \n",
    "                \n",
    "        for i in range(self.iterations):\n",
    "            #Step1\n",
    "            y_pred = self.theta[0] + np.dot(x, self.theta[1:])\n",
    "            z = y_pred\n",
    "            #Step2\n",
    "            g_z =  1 / (1 + np.e**(-z))       \n",
    "            \n",
    "            #Step3\n",
    "            cost = (1/n)*(-y * np.log(g_z) - (1 - y) * np.log(1 - g_z))\n",
    "            self.losses.append(cost) \n",
    "            \n",
    "            #Step4\n",
    "            d_theta1 = (1/n) * np.dot(x.T, (g_z - y)) \n",
    "            d_theta0 = (1/n) * np.sum(g_z - y)  \n",
    "            \n",
    "            #Step5\n",
    "            self.theta[1:] = self.theta[1:] - self.l_rate * d_theta1  \n",
    "            self.theta[0] = self.theta[0] - self.l_rate * d_theta0       \n",
    "        return self\n",
    "    \n",
    "    \n",
    "    def predict(self, x):  \n",
    "        x = self.scale(x)  \n",
    "       \n",
    "        y_pred = self.theta[0] + np.dot(x, self.theta[1:]) \n",
    "        z = y_pred\n",
    "        g_z = 1 / (1 + np.e**(-z))\n",
    "        return [1 if i > 0.4 else 0 for i in g_z] "
   ]
  },
  {
   "cell_type": "code",
   "execution_count": 22,
   "id": "a298fafc",
   "metadata": {},
   "outputs": [
    {
     "data": {
      "text/plain": [
       "<__main__.LogisticRegression at 0x1fc074d28f0>"
      ]
     },
     "execution_count": 22,
     "metadata": {},
     "output_type": "execute_result"
    }
   ],
   "source": [
    "model=LogisticRegression()\n",
    "model.fit(x_train,y_train)"
   ]
  },
  {
   "cell_type": "code",
   "execution_count": 23,
   "id": "ad796c3d",
   "metadata": {},
   "outputs": [
    {
     "name": "stdout",
     "output_type": "stream",
     "text": [
      "theta [-0.64304339  0.18750749  0.80107698 -0.03747003  0.34146402 -0.02341784\n",
      "  0.0351371   0.5501931   0.15759423]\n"
     ]
    }
   ],
   "source": [
    "print(\"theta\",model.theta)"
   ]
  },
  {
   "cell_type": "code",
   "execution_count": 24,
   "id": "a04a348c",
   "metadata": {},
   "outputs": [],
   "source": [
    "y_preed_train=model.predict(x_train)\n",
    "y_preed_vaild=model.predict(x_vaild)"
   ]
  },
  {
   "cell_type": "code",
   "execution_count": 25,
   "id": "76237e17",
   "metadata": {},
   "outputs": [
    {
     "name": "stdout",
     "output_type": "stream",
     "text": [
      "-------train accuracy-----\n",
      "0.7653631284916201\n",
      "------valid accuracy------\n",
      "0.6782608695652174\n"
     ]
    }
   ],
   "source": [
    "train_acc=metrics.accuracy_score(y_train, y_preed_train)\n",
    "vaild_acc=metrics.accuracy_score(y_vaild, y_preed_vaild)\n",
    "print(\"-------train accuracy-----\")\n",
    "print(train_acc)\n",
    "print(\"------valid accuracy------\")\n",
    "print(vaild_acc)"
   ]
  },
  {
   "cell_type": "code",
   "execution_count": 26,
   "id": "3e4fd216",
   "metadata": {},
   "outputs": [
    {
     "name": "stdout",
     "output_type": "stream",
     "text": [
      "------test accuracy-------\n",
      "0.7155172413793104\n"
     ]
    }
   ],
   "source": [
    "y_preed_test=model.predict(x_test)\n",
    "test_acc=metrics.accuracy_score(y_test,y_preed_test)\n",
    "print(\"------test accuracy-------\")\n",
    "print(test_acc)"
   ]
  },
  {
   "cell_type": "code",
   "execution_count": 27,
   "id": "03b980ba",
   "metadata": {},
   "outputs": [
    {
     "name": "stdout",
     "output_type": "stream",
     "text": [
      "Train Accuracy:  75.94316887794284 +/- 1.2904658872109065\n",
      "Test Accuracy:  75.2533740769035 +/- 3.187892596173201\n"
     ]
    }
   ],
   "source": [
    "num_spilts=5\n",
    "kfold=StratifiedKFold(num_spilts,shuffle=True,random_state=1)\n",
    "train_acc,test_acc=[],[]\n",
    "for train_index,test_index in kfold.split(x,y):\n",
    "    x_train,x_test=x[train_index],x[test_index]\n",
    "    y_train,y_test=y[train_index],y[test_index]\n",
    "\n",
    "    model.fit(x_train,y_train)\n",
    "    y_pred_train=model.predict(x_train)\n",
    "    y_pred_test=model.predict(x_test)\n",
    "    train_acc.append(metrics.accuracy_score(y_train,y_pred_train)*100)\n",
    "    test_acc.append(metrics.accuracy_score(y_test,y_pred_test)*100)\n",
    "print(\"Train Accuracy: \",np.mean(train_acc), \"+/-\", np.std(train_acc))\n",
    "print(\"Test Accuracy: \",np.mean(test_acc), \"+/-\", np.std(test_acc))"
   ]
  },
  {
   "cell_type": "code",
   "execution_count": null,
   "id": "9008acde",
   "metadata": {},
   "outputs": [],
   "source": []
  }
 ],
 "metadata": {
  "kernelspec": {
   "display_name": "Python 3 (ipykernel)",
   "language": "python",
   "name": "python3"
  },
  "language_info": {
   "codemirror_mode": {
    "name": "ipython",
    "version": 3
   },
   "file_extension": ".py",
   "mimetype": "text/x-python",
   "name": "python",
   "nbconvert_exporter": "python",
   "pygments_lexer": "ipython3",
   "version": "3.10.13"
  }
 },
 "nbformat": 4,
 "nbformat_minor": 5
}
